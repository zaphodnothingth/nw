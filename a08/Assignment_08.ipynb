{
 "cells": [
  {
   "cell_type": "markdown",
   "metadata": {},
   "source": [
    "## MSDS 452\n",
    "## Assignment 8"
   ]
  },
  {
   "cell_type": "markdown",
   "metadata": {},
   "source": [
    "### Computing graph centralities and communities with NetworkX."
   ]
  },
  {
   "cell_type": "code",
   "execution_count": null,
   "metadata": {},
   "outputs": [],
   "source": [
    "import random, operator, os, math, re, string, copy, itertools, pickle, datetime, pandas as pd, numpy as np, matplotlib.pyplot as plt, networkx as nx\n",
    "from collections import Counter, OrderedDict\n",
    "import operator\n",
    "import pygraphviz\n",
    "from networkx.drawing.nx_agraph import graphviz_layout\n",
    "from networkx.algorithms import community\n",
    "import community as louvain\n",
    "import spacy \n",
    "nlp = spacy.load('en_core_web_lg')\n",
    "\n",
    "# Plotting-related\n",
    "import matplotlib\n",
    "import matplotlib.pyplot as plt\n",
    "from matplotlib.patches import Rectangle\n",
    "# from matplotlib import pyplot as plt\n",
    "# from matplotlib.gridspec import GridSpec\n",
    "from matplotlib.ticker import FuncFormatter\n",
    "import matplotlib.colors as mcolors\n",
    "import matplotlib._color_data as mcd\n",
    "%matplotlib inline\n",
    "import seaborn as sns\n",
    "import plotly\n",
    "from plotly import tools\n",
    "# import plotly.plotly as py\n",
    "import chart_studio.plotly as py\n",
    "import plotly.graph_objs as go\n",
    "import plotly.figure_factory as ff\n",
    "from plotly.offline import download_plotlyjs,init_notebook_mode,plot,iplot\n",
    "#connects JS to notebook so plots work inline\n",
    "init_notebook_mode(connected=True)\n",
    "\n",
    "import bokeh\n",
    "from bokeh.io import push_notebook, show, output_notebook, save\n",
    "import bokeh.plotting as bp\n",
    "from bokeh.plotting import figure, save, output_file, show #, from_networkx\n",
    "from bokeh.models import (ColumnDataSource, LabelSet, Label, BoxSelectTool, Circle, EdgesAndLinkedNodes, HoverTool,MultiLine, NodesAndLinkedEdges, Plot, Range1d, TapTool,)\n",
    "from holoviews.element.graphs import layout_nodes\n",
    "# bokeh.sampledata.download()\n",
    "from bokeh.sampledata.airport_routes import routes, airports\n",
    "\n",
    "output_notebook()\n",
    "import holoviews as hv\n",
    "from holoviews import dim, opts\n",
    "hv.extension('bokeh', 'matplotlib')\n",
    "from holoviews.operation import  gridmatrix\n",
    "from holoviews.operation.datashader import datashade, bundle_graph\n",
    "from holoviews import Graph, Nodes\n",
    "from holoviews.plotting.bokeh import GraphPlot, LabelsPlot\n",
    "import hvplot.networkx as hvnx\n",
    "import hvplot.pandas\n",
    "\n",
    "import warnings\n",
    "warnings.filterwarnings(\"ignore\", category=RuntimeWarning) \n",
    "warnings.simplefilter('ignore')"
   ]
  },
  {
   "cell_type": "code",
   "execution_count": null,
   "metadata": {},
   "outputs": [],
   "source": [
    "def HVNX_PLOT(G,pos,width,height,bundled,nodelabels,title,node_size,node_color,node_cmap,\n",
    "                edge_color,edge_line_width,xoffset,yoffset,arrowhead_length,selection_mode,\n",
    "                selection_policy,edge_hover_line_color,node_hover_fill_color,fontsize,\n",
    "                text_font_size, text_color,bgcolor):\n",
    "    graph = hvnx.draw(G, pos)\n",
    "    graph.opts(edge_color=edge_color,edge_line_width=edge_line_width,node_size=node_size,node_color=node_color,node_cmap=node_cmap)\n",
    "    graph.opts(padding=0.15)\n",
    "    if bundled==0:\n",
    "        graph.opts(selection_policy=selection_policy,title=title,edge_hover_line_color=edge_hover_line_color,node_hover_fill_color=node_hover_fill_color,fontsize=fontsize,width=width,height=height,arrowhead_length=arrowhead_length) #,tools=tools) #,'box_zoom',\"tap\"])\n",
    "        if nodelabels==1:\n",
    "            labels = hv.Labels(graph.nodes, ['x', 'y'], 'index')\n",
    "            graph=(graph * labels.opts(xoffset=xoffset, yoffset=yoffset,text_font_size=text_font_size, text_color=text_color, bgcolor=bgcolor))            \n",
    "            return graph\n",
    "        else:\n",
    "            return graph\n",
    "    else:\n",
    "        graph = bundle_graph(graph)\n",
    "        graph.opts(selection_policy=selection_policy,title=title,edge_hover_line_color=edge_hover_line_color,node_hover_fill_color=node_hover_fill_color,fontsize=fontsize,width=width,height=height,arrowhead_length=arrowhead_length) #,tools=tools) #,'box_zoom',\"tap\"])\n",
    "        if nodelabels==1:\n",
    "            labels = hv.Labels(graph.nodes, ['x', 'y'], 'index')\n",
    "            graph=(graph * labels.opts(xoffset=xoffset, yoffset=yoffset,text_font_size=text_font_size, text_color=text_color, bgcolor=bgcolor))\n",
    "            return graph\n",
    "        else:\n",
    "            return graph"
   ]
  },
  {
   "cell_type": "markdown",
   "metadata": {},
   "source": [
    "### I. Graph Centrality Indices"
   ]
  },
  {
   "cell_type": "code",
   "execution_count": null,
   "metadata": {},
   "outputs": [],
   "source": [
    "def create_centralities_list(G,maxiter=2000,pphi=5,centList=[]):\n",
    "    if len(centList)==0:\n",
    "        centList=['degree','closeness','betweenness','eigenvector','Katz','PageRank','HITS','load','communicability','current flow']\n",
    "    cenLen=len(centList)\n",
    "    valus={}\n",
    "    for uu,centr in enumerate(centList):\n",
    "        if centr=='degree':\n",
    "            if isinstance(G,nx.DiGraph):\n",
    "                cent=nx.in_degree_centrality(G)\n",
    "                sstt='In Degree Centralities '\n",
    "                valus['in_degree']=cent\n",
    "                cent=nx.out_degree_centrality(G)\n",
    "                sstt+= 'and Out Degree Centralities'\n",
    "                valus['out_degree']=cent\n",
    "            else:\n",
    "                cent=nx.degree_centrality(G)\n",
    "                sstt='Degree Centralities'\n",
    "                ssttt='degree centrality'\n",
    "                valus[centr]=cent\n",
    "        elif centr=='closeness':\n",
    "            cent=nx.closeness_centrality(G)\n",
    "            sstt='Closeness Centralities'\n",
    "            ssttt='closeness centrality'\n",
    "            valus[centr]=cent\n",
    "        elif centr =='load':\n",
    "            cent=nx.load_centrality(G)\n",
    "            sstt='Load Centraities'\n",
    "            valus[centr]=cent\n",
    "        elif centr == 'communicability':\n",
    "            if not isinstance(G, nx.DiGraph):\n",
    "                cent=nx.communicability_betweenness_centrality(G)\n",
    "                sstt='Communicability Centralities'\n",
    "                valus[centr]=cent\n",
    "        elif centr=='betweenness':\n",
    "            cent=nx.betweenness_centrality(G)\n",
    "            sstt='Betweenness Centralities'\n",
    "            ssttt='betweenness centrality'\n",
    "            valus[centr]=cent\n",
    "        elif centr=='current flow':\n",
    "            if not isinstance(G, nx.DiGraph):\n",
    "            \n",
    "                cent=nx.current_flow_closeness_centrality(G)\n",
    "                sstt='Current Flow Closeness Centrality'\n",
    "                valus[centr]=cent\n",
    "        elif centr=='eigenvector':\n",
    "            try:\n",
    "                cent=nx.eigenvector_centrality(G,max_iter=maxiter)\n",
    "                sstt='Eigenvector Centralities'\n",
    "                ssttt='eigenvector centrality'\n",
    "                valus[centr]=cent\n",
    "\n",
    "            except:\n",
    "                valus[centr]=None\n",
    "\n",
    "                continue\n",
    "        elif centr=='Katz':\n",
    "            phi = (1+math.sqrt(pphi))/2.0 # largest eigenvalue of adj matrix\n",
    "            cent=nx.katz_centrality_numpy(G,1/phi-0.01)\n",
    "            cent=nx.katz_centrality_numpy(G,.05)#,1/phi-0.01)\n",
    "            \n",
    "            sstt='Katz Centralities'\n",
    "            ssttt='Katz centrality'\n",
    "            valus[centr]=cent\n",
    "#             valus[centr+'_%i' %pphi]=cent\n",
    "\n",
    "        elif centr=='PageRank':\n",
    "            try:\n",
    "                cent=nx.pagerank(G)\n",
    "                sstt='PageRank'\n",
    "                ssttt='pagerank'\n",
    "                valus[centr]=cent\n",
    "\n",
    "            except:\n",
    "                valus[centr]=None\n",
    "\n",
    "                continue\n",
    "        elif centr=='HITS':\n",
    "            if isinstance(G,nx.DiGraph):\n",
    "                dd=nx.hits(G,max_iter=maxiter)\n",
    "                sstt='HITS hubs '\n",
    "                valus['HITS_hubs']=dd[0]\n",
    "                sstt+= 'and HITS authorities'\n",
    "                valus['HITS_auths']=dd[1]\n",
    "            else:\n",
    "                dd=nx.hits(G,max_iter=maxiter)\n",
    "                cent=nx.degree_centrality(G)\n",
    "                sstt='HITS'\n",
    "                ssttt='HITS Centralities'\n",
    "                valus[centr]=dd[0]\n",
    "        else:\n",
    "            continue\n",
    "#         print('%s done!!!' %sstt)\n",
    "    return valus\n",
    "\n",
    "dindices=['out_degree','in_degree','closeness','betweenness','eigenvector','HITS_hubs','HITS_auths','Katz','PageRank','load']\n",
    "indices=['degree','closeness','betweenness','eigenvector','HITS','Katz','PageRank','load','communicability','current flow']\n",
    "# indices=['degree','closeness','betweenness','eigenvector']\n",
    "\n",
    "# Without 'communicability' and 'current flow' (undirected case)\n",
    "dindicesd=['out_degree','in_degree','closeness','betweenness','eigenvector','HITS_hubs','HITS_auths','Katz','PageRank','load']\n",
    "indicesd=['degree','closeness','betweenness','eigenvector','HITS','Katz','PageRank','load']\n",
    "# indicesd=['degree','closeness','betweenness','eigenvector']\n",
    "\n",
    "dindicesdr=dindices\n",
    "indicesdr=indices\n",
    "\n",
    "# Plus 'node'\n",
    "dindicesdrn=[\"node\"]+dindices\n",
    "indicesdrn=['node']+indices\n",
    "\n",
    "def central_df(G,node,central_pd):\n",
    "    central_pd[node]=central_pd.index.values\n",
    "    if isinstance(G,nx.DiGraph):\n",
    "        central_pd=central_pd[[node]+dindices]\n",
    "    else:\n",
    "        central_pd=central_pd[[node]+indices]\n",
    "    central_pd[node]=central_pd.index.values\n",
    "    central_pd.reset_index(drop = True, inplace = True)\n",
    "    # central_pd=central_pd[['node']]\n",
    "    central_pd.sort_values(node) #.head()\n",
    "    # central_pd['node']=G.nodes()\n",
    "    return central_pd"
   ]
  },
  {
   "cell_type": "code",
   "execution_count": null,
   "metadata": {},
   "outputs": [],
   "source": []
  },
  {
   "cell_type": "code",
   "execution_count": null,
   "metadata": {
    "scrolled": true
   },
   "outputs": [],
   "source": [
    "central_pd=pd.DataFrame(create_centralities_list(G))\n",
    "node=\"node\"\n",
    "cdf=central_df(G,node,central_pd)\n",
    "cdf=cdf.sort_values('betweenness',ascending=False)\n",
    "cdf"
   ]
  },
  {
   "cell_type": "markdown",
   "metadata": {},
   "source": [
    "<font size=\"4\"><span style=\"color:red\">**In the cell below, plot in holoviews the previous graph using the layout method of composing elements (http://holoviews.org/user_guide/Composing_Elements.html).**</span></font>"
   ]
  },
  {
   "cell_type": "code",
   "execution_count": null,
   "metadata": {},
   "outputs": [],
   "source": []
  },
  {
   "cell_type": "markdown",
   "metadata": {},
   "source": [
    "<font size=\"4\"><span style=\"color:red\">**In the cell below, using the scatter_matrix method in hvplot.plotting (https://hvplot.holoviz.org/user_guide/Statistical_Plots.html), do the pairplots of correlations among the centrality indices of the previous graph.**</span></font>"
   ]
  },
  {
   "cell_type": "code",
   "execution_count": null,
   "metadata": {},
   "outputs": [],
   "source": []
  },
  {
   "cell_type": "markdown",
   "metadata": {},
   "source": [
    "<font size=\"4\"><span style=\"color:red\">**In the three cells below, (i) compute the centrality indices of a weakly-connected Gnm random directed graph, (ii) plot it in holoviews using the layout method of composing elements and (iii), using the scatter_matrix method in hvplot.plotting, do the pairplots of correlations among the centrality indices of this graph.**</span></font>"
   ]
  },
  {
   "cell_type": "code",
   "execution_count": null,
   "metadata": {},
   "outputs": [],
   "source": []
  },
  {
   "cell_type": "code",
   "execution_count": null,
   "metadata": {
    "scrolled": true
   },
   "outputs": [],
   "source": []
  },
  {
   "cell_type": "code",
   "execution_count": null,
   "metadata": {},
   "outputs": [],
   "source": []
  },
  {
   "cell_type": "code",
   "execution_count": null,
   "metadata": {},
   "outputs": [],
   "source": []
  },
  {
   "cell_type": "markdown",
   "metadata": {},
   "source": [
    "### II. Graph Community Partitions"
   ]
  },
  {
   "cell_type": "markdown",
   "metadata": {},
   "source": [
    "<font size=\"4\"><span style=\"color:red\">**In the cells below, take a connected Erdos-Renyi random undirected graph and plot it in holoviews using the layout method of composing elements for each one of the five community partitions: Girvan-Newman, Louvain, Label propagation, Asynchronous label propagation and Fluid Communities for k=5.**</span></font>"
   ]
  },
  {
   "cell_type": "code",
   "execution_count": null,
   "metadata": {},
   "outputs": [],
   "source": []
  },
  {
   "cell_type": "code",
   "execution_count": null,
   "metadata": {},
   "outputs": [],
   "source": []
  },
  {
   "cell_type": "markdown",
   "metadata": {},
   "source": [
    "<font size=\"4\"><span style=\"color:red\">**In the cells below, take a weakly-connected Gnm random directed graph and plot it in holoviews using the layout method of composing elements for each one of the two community partitions: Girvan-Newman, Asynchronous label propagation.**</span></font>"
   ]
  },
  {
   "cell_type": "code",
   "execution_count": null,
   "metadata": {},
   "outputs": [],
   "source": []
  },
  {
   "cell_type": "code",
   "execution_count": null,
   "metadata": {},
   "outputs": [],
   "source": []
  },
  {
   "cell_type": "code",
   "execution_count": null,
   "metadata": {},
   "outputs": [],
   "source": []
  }
 ],
 "metadata": {
  "kernelspec": {
   "display_name": "Python 3",
   "language": "python",
   "name": "python3"
  },
  "language_info": {
   "codemirror_mode": {
    "name": "ipython",
    "version": 3
   },
   "file_extension": ".py",
   "mimetype": "text/x-python",
   "name": "python",
   "nbconvert_exporter": "python",
   "pygments_lexer": "ipython3",
   "version": "3.7.7"
  }
 },
 "nbformat": 4,
 "nbformat_minor": 2
}
