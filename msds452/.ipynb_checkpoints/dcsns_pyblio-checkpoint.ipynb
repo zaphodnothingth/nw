{
 "cells": [
  {
   "cell_type": "code",
   "execution_count": 2,
   "metadata": {},
   "outputs": [],
   "source": [
    "import pandas as pd\n",
    "import numpy as np\n",
    "\n",
    "import requests"
   ]
  },
  {
   "cell_type": "code",
   "execution_count": 4,
   "metadata": {},
   "outputs": [
    {
     "data": {
      "text/plain": [
       "0       2-s2.0-0020959176\n",
       "1       2-s2.0-0021644285\n",
       "2      2-s2.0-10644293118\n",
       "3       2-s2.0-0023159175\n",
       "4       2-s2.0-0024286285\n",
       "              ...        \n",
       "934    2-s2.0-85092486863\n",
       "935    2-s2.0-85093894765\n",
       "936    2-s2.0-85095728066\n",
       "937    2-s2.0-85095861021\n",
       "938    2-s2.0-85090421838\n",
       "Name: EID, Length: 939, dtype: object"
      ]
     },
     "execution_count": 4,
     "metadata": {},
     "output_type": "execute_result"
    }
   ],
   "source": [
    "df = pd.read_csv('SCOPUS Disease Control through Social Network Surveillance.csv')\n",
    "df.EID"
   ]
  },
  {
   "cell_type": "code",
   "execution_count": 5,
   "metadata": {},
   "outputs": [
    {
     "ename": "Scopus403Error",
     "evalue": "Requestor configuration settings insufficient for access to this resource.",
     "output_type": "error",
     "traceback": [
      "\u001b[1;31m---------------------------------------------------------------------------\u001b[0m",
      "\u001b[1;31mScopus403Error\u001b[0m                            Traceback (most recent call last)",
      "\u001b[1;32m<ipython-input-5-c8a1e5e9729c>\u001b[0m in \u001b[0;36m<module>\u001b[1;34m\u001b[0m\n\u001b[0;32m      1\u001b[0m \u001b[1;31m# !pip install pybliometrics\u001b[0m\u001b[1;33m\u001b[0m\u001b[1;33m\u001b[0m\u001b[1;33m\u001b[0m\u001b[0m\n\u001b[0;32m      2\u001b[0m \u001b[1;32mfrom\u001b[0m \u001b[0mpybliometrics\u001b[0m\u001b[1;33m.\u001b[0m\u001b[0mscopus\u001b[0m \u001b[1;32mimport\u001b[0m \u001b[0mCitationOverview\u001b[0m\u001b[1;33m\u001b[0m\u001b[1;33m\u001b[0m\u001b[0m\n\u001b[1;32m----> 3\u001b[1;33m \u001b[0mrefs\u001b[0m \u001b[1;33m=\u001b[0m \u001b[0mCitationOverview\u001b[0m\u001b[1;33m(\u001b[0m\u001b[0mdf\u001b[0m\u001b[1;33m.\u001b[0m\u001b[0mEID\u001b[0m\u001b[1;33m[\u001b[0m\u001b[1;36m2\u001b[0m\u001b[1;33m]\u001b[0m\u001b[1;33m,\u001b[0m \u001b[1;36m1982\u001b[0m\u001b[1;33m)\u001b[0m\u001b[1;33m\u001b[0m\u001b[1;33m\u001b[0m\u001b[0m\n\u001b[0m\u001b[0;32m      4\u001b[0m \u001b[0mrefs\u001b[0m\u001b[1;33m\u001b[0m\u001b[1;33m\u001b[0m\u001b[0m\n",
      "\u001b[1;32m~\\miniconda3\\envs\\graph\\lib\\site-packages\\pybliometrics\\scopus\\abstract_citations.py\u001b[0m in \u001b[0;36m__init__\u001b[1;34m(self, eid, start, end, refresh)\u001b[0m\n\u001b[0;32m    173\u001b[0m         \u001b[0mdate\u001b[0m \u001b[1;33m=\u001b[0m \u001b[1;34mf'{start}-{end}'\u001b[0m\u001b[1;33m\u001b[0m\u001b[1;33m\u001b[0m\u001b[0m\n\u001b[0;32m    174\u001b[0m         Retrieval.__init__(self, eid, 'CitationOverview', refresh, view=view,\n\u001b[1;32m--> 175\u001b[1;33m                            date=date)\n\u001b[0m\u001b[0;32m    176\u001b[0m         \u001b[0mself\u001b[0m\u001b[1;33m.\u001b[0m\u001b[0m_data\u001b[0m \u001b[1;33m=\u001b[0m \u001b[0mself\u001b[0m\u001b[1;33m.\u001b[0m\u001b[0m_json\u001b[0m\u001b[1;33m[\u001b[0m\u001b[1;34m'abstract-citations-response'\u001b[0m\u001b[1;33m]\u001b[0m\u001b[1;33m\u001b[0m\u001b[1;33m\u001b[0m\u001b[0m\n\u001b[0;32m    177\u001b[0m \u001b[1;33m\u001b[0m\u001b[0m\n",
      "\u001b[1;32m~\\miniconda3\\envs\\graph\\lib\\site-packages\\pybliometrics\\scopus\\superclasses\\retrieval.py\u001b[0m in \u001b[0;36m__init__\u001b[1;34m(self, identifier, api, refresh, view, id_type, date, **kwds)\u001b[0m\n\u001b[0;32m     68\u001b[0m         \u001b[1;31m# Parse file contents\u001b[0m\u001b[1;33m\u001b[0m\u001b[1;33m\u001b[0m\u001b[1;33m\u001b[0m\u001b[0m\n\u001b[0;32m     69\u001b[0m         \u001b[0mqfile\u001b[0m \u001b[1;33m=\u001b[0m \u001b[0mjoin\u001b[0m\u001b[1;33m(\u001b[0m\u001b[0mget_folder\u001b[0m\u001b[1;33m(\u001b[0m\u001b[0mapi\u001b[0m\u001b[1;33m,\u001b[0m \u001b[0mview\u001b[0m\u001b[1;33m)\u001b[0m\u001b[1;33m,\u001b[0m \u001b[0midentifier\u001b[0m\u001b[1;33m.\u001b[0m\u001b[0mreplace\u001b[0m\u001b[1;33m(\u001b[0m\u001b[1;34m'/'\u001b[0m\u001b[1;33m,\u001b[0m \u001b[1;34m'_'\u001b[0m\u001b[1;33m)\u001b[0m\u001b[1;33m)\u001b[0m\u001b[1;33m\u001b[0m\u001b[1;33m\u001b[0m\u001b[0m\n\u001b[1;32m---> 70\u001b[1;33m         \u001b[0mBase\u001b[0m\u001b[1;33m.\u001b[0m\u001b[0m__init__\u001b[0m\u001b[1;33m(\u001b[0m\u001b[0mself\u001b[0m\u001b[1;33m,\u001b[0m \u001b[0mqfile\u001b[0m\u001b[1;33m,\u001b[0m \u001b[0mrefresh\u001b[0m\u001b[1;33m,\u001b[0m \u001b[0mparams\u001b[0m\u001b[1;33m=\u001b[0m\u001b[0mparams\u001b[0m\u001b[1;33m,\u001b[0m \u001b[0murl\u001b[0m\u001b[1;33m=\u001b[0m\u001b[0murl\u001b[0m\u001b[1;33m)\u001b[0m\u001b[1;33m\u001b[0m\u001b[1;33m\u001b[0m\u001b[0m\n\u001b[0m\u001b[0;32m     71\u001b[0m         \u001b[1;31m# print(self._json)\u001b[0m\u001b[1;33m\u001b[0m\u001b[1;33m\u001b[0m\u001b[1;33m\u001b[0m\u001b[0m\n\u001b[0;32m     72\u001b[0m         \u001b[0mself\u001b[0m\u001b[1;33m.\u001b[0m\u001b[0m_view\u001b[0m \u001b[1;33m=\u001b[0m \u001b[0mview\u001b[0m\u001b[1;33m\u001b[0m\u001b[1;33m\u001b[0m\u001b[0m\n",
      "\u001b[1;32m~\\miniconda3\\envs\\graph\\lib\\site-packages\\pybliometrics\\scopus\\superclasses\\base.py\u001b[0m in \u001b[0;36m__init__\u001b[1;34m(self, fname, refresh, params, url, download, max_entries, verbose, *args, **kwds)\u001b[0m\n\u001b[0;32m     68\u001b[0m                     \u001b[0mself\u001b[0m\u001b[1;33m.\u001b[0m\u001b[0m_json\u001b[0m \u001b[1;33m=\u001b[0m \u001b[0mloads\u001b[0m\u001b[1;33m(\u001b[0m\u001b[0mf\u001b[0m\u001b[1;33m.\u001b[0m\u001b[0mread\u001b[0m\u001b[1;33m(\u001b[0m\u001b[1;33m)\u001b[0m\u001b[1;33m.\u001b[0m\u001b[0mdecode\u001b[0m\u001b[1;33m(\u001b[0m\u001b[1;34m'utf-8'\u001b[0m\u001b[1;33m)\u001b[0m\u001b[1;33m)\u001b[0m\u001b[1;33m\u001b[0m\u001b[1;33m\u001b[0m\u001b[0m\n\u001b[0;32m     69\u001b[0m         \u001b[1;32melse\u001b[0m\u001b[1;33m:\u001b[0m\u001b[1;33m\u001b[0m\u001b[1;33m\u001b[0m\u001b[0m\n\u001b[1;32m---> 70\u001b[1;33m             \u001b[0mresp\u001b[0m \u001b[1;33m=\u001b[0m \u001b[0mget_content\u001b[0m\u001b[1;33m(\u001b[0m\u001b[0murl\u001b[0m\u001b[1;33m,\u001b[0m \u001b[0mparams\u001b[0m\u001b[1;33m,\u001b[0m \u001b[1;33m*\u001b[0m\u001b[0margs\u001b[0m\u001b[1;33m,\u001b[0m \u001b[1;33m**\u001b[0m\u001b[0mkwds\u001b[0m\u001b[1;33m)\u001b[0m\u001b[1;33m\u001b[0m\u001b[1;33m\u001b[0m\u001b[0m\n\u001b[0m\u001b[0;32m     71\u001b[0m             \u001b[0mheader\u001b[0m \u001b[1;33m=\u001b[0m \u001b[0mresp\u001b[0m\u001b[1;33m.\u001b[0m\u001b[0mheaders\u001b[0m\u001b[1;33m\u001b[0m\u001b[1;33m\u001b[0m\u001b[0m\n\u001b[0;32m     72\u001b[0m             \u001b[1;32mif\u001b[0m \u001b[0msearch_request\u001b[0m\u001b[1;33m:\u001b[0m\u001b[1;33m\u001b[0m\u001b[1;33m\u001b[0m\u001b[0m\n",
      "\u001b[1;32m~\\miniconda3\\envs\\graph\\lib\\site-packages\\pybliometrics\\scopus\\utils\\get_content.py\u001b[0m in \u001b[0;36mget_content\u001b[1;34m(url, params, *args, **kwds)\u001b[0m\n\u001b[0;32m     86\u001b[0m             \u001b[1;32mexcept\u001b[0m\u001b[1;33m:\u001b[0m\u001b[1;33m\u001b[0m\u001b[1;33m\u001b[0m\u001b[0m\n\u001b[0;32m     87\u001b[0m                 \u001b[0mreason\u001b[0m \u001b[1;33m=\u001b[0m \u001b[1;34m\"\"\u001b[0m\u001b[1;33m\u001b[0m\u001b[1;33m\u001b[0m\u001b[0m\n\u001b[1;32m---> 88\u001b[1;33m         \u001b[1;32mraise\u001b[0m \u001b[0merrors\u001b[0m\u001b[1;33m[\u001b[0m\u001b[0mresp\u001b[0m\u001b[1;33m.\u001b[0m\u001b[0mstatus_code\u001b[0m\u001b[1;33m]\u001b[0m\u001b[1;33m(\u001b[0m\u001b[0mreason\u001b[0m\u001b[1;33m)\u001b[0m\u001b[1;33m\u001b[0m\u001b[1;33m\u001b[0m\u001b[0m\n\u001b[0m\u001b[0;32m     89\u001b[0m     \u001b[1;32mexcept\u001b[0m \u001b[0mKeyError\u001b[0m\u001b[1;33m:\u001b[0m\u001b[1;33m\u001b[0m\u001b[1;33m\u001b[0m\u001b[0m\n\u001b[0;32m     90\u001b[0m         \u001b[0mresp\u001b[0m\u001b[1;33m.\u001b[0m\u001b[0mraise_for_status\u001b[0m\u001b[1;33m(\u001b[0m\u001b[1;33m)\u001b[0m\u001b[1;33m\u001b[0m\u001b[1;33m\u001b[0m\u001b[0m\n",
      "\u001b[1;31mScopus403Error\u001b[0m: Requestor configuration settings insufficient for access to this resource."
     ]
    }
   ],
   "source": [
    "# !pip install pybliometrics\n",
    "from pybliometrics.scopus import CitationOverview\n",
    "refs = CitationOverview(df.EID[2], 1982)\n",
    "refs"
   ]
  },
  {
   "cell_type": "code",
   "execution_count": 47,
   "metadata": {},
   "outputs": [
    {
     "data": {
      "text/plain": [
       "<Response [403]>"
      ]
     },
     "execution_count": 47,
     "metadata": {},
     "output_type": "execute_result"
    }
   ],
   "source": [
    "url = 'https://api.elsevier.com/authenticate/'\n",
    "headers = {\n",
    "    'X-ELS-APIKey':'a00f8be78ed67a1a725d9afa9a85ee33'\n",
    "}\n",
    "resp = requests.get(url, headers=headers)\n",
    "resp"
   ]
  },
  {
   "cell_type": "code",
   "execution_count": 20,
   "metadata": {},
   "outputs": [],
   "source": [
    "resp = requests.get('https://api.crossref.org/v1/works/10.1016/0167-5877(85)90010-8')"
   ]
  },
  {
   "cell_type": "code",
   "execution_count": 22,
   "metadata": {},
   "outputs": [
    {
     "data": {
      "text/plain": [
       "{'status': 'ok',\n",
       " 'message-type': 'work',\n",
       " 'message-version': '1.0.0',\n",
       " 'message': {'indexed': {'date-parts': [[2020, 4, 7]],\n",
       "   'date-time': '2020-04-07T07:38:33Z',\n",
       "   'timestamp': 1586245113498},\n",
       "  'reference-count': 12,\n",
       "  'publisher': 'Elsevier BV',\n",
       "  'issue': '4',\n",
       "  'license': [{'URL': 'https://www.elsevier.com/tdm/userlicense/1.0/',\n",
       "    'start': {'date-parts': [[1985, 8, 1]],\n",
       "     'date-time': '1985-08-01T00:00:00Z',\n",
       "     'timestamp': 491702400000},\n",
       "    'delay-in-days': 0,\n",
       "    'content-version': 'tdm'}],\n",
       "  'content-domain': {'domain': [], 'crossmark-restriction': False},\n",
       "  'short-container-title': ['Preventive Veterinary Medicine'],\n",
       "  'published-print': {'date-parts': [[1985, 8]]},\n",
       "  'DOI': '10.1016/0167-5877(85)90010-8',\n",
       "  'type': 'journal-article',\n",
       "  'created': {'date-parts': [[2002, 12, 14]],\n",
       "   'date-time': '2002-12-14T22:29:43Z',\n",
       "   'timestamp': 1039904983000},\n",
       "  'page': '323-337',\n",
       "  'source': 'Crossref',\n",
       "  'is-referenced-by-count': 6,\n",
       "  'title': ['Benefit—cost analysis of an epidemiologic approach to provision of veterinary service in the Sudan'],\n",
       "  'prefix': '10.1016',\n",
       "  'volume': '3',\n",
       "  'author': [{'given': 'Karl-Hans',\n",
       "    'family': 'Zessin',\n",
       "    'sequence': 'first',\n",
       "    'affiliation': []},\n",
       "   {'given': 'Tim E.',\n",
       "    'family': 'Carpenter',\n",
       "    'sequence': 'additional',\n",
       "    'affiliation': []}],\n",
       "  'member': '78',\n",
       "  'reference': [{'key': '10.1016/0167-5877(85)90010-8_BIB1',\n",
       "    'author': 'De Boer',\n",
       "    'year': '1979',\n",
       "    'article-title': 'Final project report on vaccination campaign',\n",
       "    'journal-title': 'Dtsch. Ges. Tech. Zusammenarbeit (GTZ)'},\n",
       "   {'key': '10.1016/0167-5877(85)90010-8_BIB2',\n",
       "    'first-page': '34',\n",
       "    'article-title': 'Present status of diseases and disease control',\n",
       "    'volume': '7',\n",
       "    'author': 'El Nasri',\n",
       "    'year': '1966',\n",
       "    'journal-title': 'Sudan J. Vet. Sci. Anim. Husb.'},\n",
       "   {'key': '10.1016/0167-5877(85)90010-8_BIB3',\n",
       "    'author': 'Ministry of Agriculture, Forestry and Natural Resources, Khartoum (MOA)',\n",
       "    'year': '1976',\n",
       "    'series-title': 'Sudan national livestock census and natural resources inventory'},\n",
       "   {'key': '10.1016/0167-5877(85)90010-8_BIB4',\n",
       "    'first-page': '155',\n",
       "    'article-title': 'Present methods of control of contagious bovine pleuropneumonia',\n",
       "    'volume': '6',\n",
       "    'author': 'Piercy',\n",
       "    'year': '1958',\n",
       "    'journal-title': 'Bull. Epiz. Dis. Afr.'},\n",
       "   {'key': '10.1016/0167-5877(85)90010-8_BIB5',\n",
       "    'author': 'Project Development Unit (PDU)',\n",
       "    'year': '1978',\n",
       "    'series-title': 'Seasonal and longterm changes in the marketed offtake from cattle in the southern Sudan'},\n",
       "   {'key': '10.1016/0167-5877(85)90010-8_BIB6',\n",
       "    'author': 'Project Development Unit (PDU)',\n",
       "    'year': '1978',\n",
       "    'series-title': 'Livestock husbandry and agriculture among the Dinka'},\n",
       "   {'key': '10.1016/0167-5877(85)90010-8_BIB7',\n",
       "    'first-page': '55',\n",
       "    'article-title': 'Animal disease control. Part II. Newer methods, with possibility for their application in the Sudan',\n",
       "    'volume': '21',\n",
       "    'author': 'Schwabe',\n",
       "    'year': '1980',\n",
       "    'journal-title': 'Sudan J. Vet. Sci. Anim. Husb.'},\n",
       "   {'key': '10.1016/0167-5877(85)90010-8_BIB8_1',\n",
       "    'author': 'Schwabe',\n",
       "    'first-page': '172',\n",
       "    'year': '1984',\n",
       "    'article-title': 'Veterinary Medicine and Human Health'},\n",
       "   {'key': '10.1016/0167-5877(85)90010-8_BIB8_2',\n",
       "    'author': 'Schwabe',\n",
       "    'first-page': '300',\n",
       "    'year': '1984',\n",
       "    'article-title': 'Veterinary Medicine and Human Health'},\n",
       "   {'key': '10.1016/0167-5877(85)90010-8_BIB9',\n",
       "    'author': 'World Bank',\n",
       "    'first-page': '20433',\n",
       "    'year': '1982'},\n",
       "   {'key': '10.1016/0167-5877(85)90010-8_BIB10',\n",
       "    'author': 'Zessin',\n",
       "    'year': '1982',\n",
       "    'series-title': 'Livestock Disease Survey'},\n",
       "   {'key': '10.1016/0167-5877(85)90010-8_BIB11',\n",
       "    'author': 'Zessin',\n",
       "    'year': '1985',\n",
       "    'article-title': 'Epidemiology of contagious bovine pleuropneumonia in Bahr el-Ghazal province'}],\n",
       "  'container-title': ['Preventive Veterinary Medicine'],\n",
       "  'original-title': [],\n",
       "  'language': 'en',\n",
       "  'link': [{'URL': 'https://api.elsevier.com/content/article/PII:0167587785900108?httpAccept=text/xml',\n",
       "    'content-type': 'text/xml',\n",
       "    'content-version': 'vor',\n",
       "    'intended-application': 'text-mining'},\n",
       "   {'URL': 'https://api.elsevier.com/content/article/PII:0167587785900108?httpAccept=text/plain',\n",
       "    'content-type': 'text/plain',\n",
       "    'content-version': 'vor',\n",
       "    'intended-application': 'text-mining'}],\n",
       "  'deposited': {'date-parts': [[2019, 3, 31]],\n",
       "   'date-time': '2019-03-31T22:21:30Z',\n",
       "   'timestamp': 1554070890000},\n",
       "  'score': 1.0,\n",
       "  'subtitle': [],\n",
       "  'short-title': [],\n",
       "  'issued': {'date-parts': [[1985, 8]]},\n",
       "  'references-count': 12,\n",
       "  'journal-issue': {'published-print': {'date-parts': [[1985, 8]]},\n",
       "   'issue': '4'},\n",
       "  'alternative-id': ['0167587785900108'],\n",
       "  'URL': 'http://dx.doi.org/10.1016/0167-5877(85)90010-8',\n",
       "  'relation': {'cites': []},\n",
       "  'ISSN': ['0167-5877'],\n",
       "  'issn-type': [{'value': '0167-5877', 'type': 'print'}],\n",
       "  'subject': ['Food Animals', 'Animal Science and Zoology']}}"
      ]
     },
     "execution_count": 22,
     "metadata": {},
     "output_type": "execute_result"
    }
   ],
   "source": [
    "resp.json()"
   ]
  }
 ],
 "metadata": {
  "kernelspec": {
   "display_name": "Python [conda env:graph] *",
   "language": "python",
   "name": "conda-env-graph-py"
  },
  "language_info": {
   "codemirror_mode": {
    "name": "ipython",
    "version": 3
   },
   "file_extension": ".py",
   "mimetype": "text/x-python",
   "name": "python",
   "nbconvert_exporter": "python",
   "pygments_lexer": "ipython3",
   "version": "3.7.9"
  }
 },
 "nbformat": 4,
 "nbformat_minor": 4
}
