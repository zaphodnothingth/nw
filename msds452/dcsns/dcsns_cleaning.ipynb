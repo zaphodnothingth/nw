{
 "cells": [
  {
   "cell_type": "markdown",
   "metadata": {},
   "source": [
    "## Bibliographic Networks"
   ]
  },
  {
   "cell_type": "code",
   "execution_count": 3,
   "metadata": {},
   "outputs": [],
   "source": [
    "import pandas as pd"
   ]
  },
  {
   "cell_type": "code",
   "execution_count": 4,
   "metadata": {},
   "outputs": [],
   "source": [
    "# You need to collect your own dataset from Scopus!\n",
    "\n",
    "# datafile = 'Scopus_MachineLearning.csv' \n",
    "datafile = 'SCOPUS Disease Control through Social Network Surveillance.csv' \n",
    "name = \"DCSNS\" \n",
    "st = \"Scopus bibliographic dataset on %s\" %name"
   ]
  },
  {
   "cell_type": "code",
   "execution_count": 6,
   "metadata": {},
   "outputs": [
    {
     "data": {
      "text/plain": [
       "Index(['Authors', 'Author(s) ID', 'Title', 'Year', 'Source title', 'Volume',\n",
       "       'Issue', 'Art. No.', 'Page start', 'Page end', 'Page count', 'Cited by',\n",
       "       'DOI', 'Link', 'Affiliations', 'Authors with affiliations', 'Abstract',\n",
       "       'Author Keywords', 'Index Keywords', 'Funding Details',\n",
       "       'Funding Text 1', 'Funding Text 2', 'Funding Text 3', 'References',\n",
       "       'Correspondence Address', 'Editors', 'Publisher', 'ISSN', 'ISBN',\n",
       "       'CODEN', 'PubMed ID', 'Language of Original Document',\n",
       "       'Abbreviated Source Title', 'Document Type', 'Publication Stage',\n",
       "       'Access Type', 'Source', 'EID'],\n",
       "      dtype='object')"
      ]
     },
     "execution_count": 6,
     "metadata": {},
     "output_type": "execute_result"
    }
   ],
   "source": [
    "df_sources = pd.read_csv(datafile)\n",
    "df_sources.columns"
   ]
  },
  {
   "cell_type": "code",
   "execution_count": 17,
   "metadata": {},
   "outputs": [
    {
     "data": {
      "text/plain": [
       "0                                                    NaN\n",
       "1                                                    NaN\n",
       "2      De Boer, Final project report on vaccination c...\n",
       "3                                                    NaN\n",
       "4                                                    NaN\n",
       "                             ...                        \n",
       "934    (2019) World Malaria Report 2019, , Global Mal...\n",
       "935                                                  NaN\n",
       "936    (2017) Disease Burden of Influenza, , https://...\n",
       "937                                                  NaN\n",
       "938    Adam, D., Special report: the simulations driv...\n",
       "Name: References, Length: 939, dtype: object"
      ]
     },
     "execution_count": 17,
     "metadata": {},
     "output_type": "execute_result"
    }
   ],
   "source": [
    "df_sources['References']"
   ]
  },
  {
   "cell_type": "code",
   "execution_count": null,
   "metadata": {},
   "outputs": [],
   "source": []
  },
  {
   "cell_type": "code",
   "execution_count": null,
   "metadata": {},
   "outputs": [],
   "source": [
    "        full_auths = row['\\ufeffAuthors'].split(',')\n",
    "        full_auths = [auth.strip() for auth in full_auths]\n",
    "        source_node = shorten_cite(full_auths) + '({})'.format(row['Year'])\n",
    "        if source_node in cite_dict:\n",
    "            in_cite_dict = True\n",
    "            i = 1\n",
    "            while in_cite_dict:\n",
    "                i += 1\n",
    "                if source_node + ' {}'.format(int_to_Roman(i)) not in cite_dict:\n",
    "                    source_node = source_node + ' {}'.format(int_to_Roman(i))\n",
    "                    in_cite_dict = False"
   ]
  }
 ],
 "metadata": {
  "kernelspec": {
   "display_name": "Python 3",
   "language": "python",
   "name": "python3"
  },
  "language_info": {
   "codemirror_mode": {
    "name": "ipython",
    "version": 3
   },
   "file_extension": ".py",
   "mimetype": "text/x-python",
   "name": "python",
   "nbconvert_exporter": "python",
   "pygments_lexer": "ipython3",
   "version": "3.7.7"
  }
 },
 "nbformat": 4,
 "nbformat_minor": 4
}
