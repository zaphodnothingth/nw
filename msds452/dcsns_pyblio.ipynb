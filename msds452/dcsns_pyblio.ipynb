{
 "cells": [
  {
   "cell_type": "code",
   "execution_count": null,
   "metadata": {},
   "outputs": [],
   "source": [
    "import pandas as pd\n",
    "import numpy as np\n",
    "\n",
    "import requests"
   ]
  },
  {
   "cell_type": "code",
   "execution_count": null,
   "metadata": {},
   "outputs": [],
   "source": [
    "df = pd.read_csv('SCOPUS Disease Control through Social Network Surveillance.csv')\n",
    "df.DOI"
   ]
  },
  {
   "cell_type": "code",
   "execution_count": null,
   "metadata": {},
   "outputs": [],
   "source": [
    "# !pip install pybliometrics\n",
    "import pybliometrics\n",
    "# pybliometrics.scopus.utils.create_config()"
   ]
  },
  {
   "cell_type": "code",
   "execution_count": null,
   "metadata": {},
   "outputs": [],
   "source": [
    "from pybliometrics.scopus import CitationOverview\n",
    "refs = CitationOverview(df.EID[2], 1982)\n",
    "refs"
   ]
  },
  {
   "cell_type": "code",
   "execution_count": 2,
   "metadata": {
    "scrolled": true
   },
   "outputs": [
    {
     "data": {
      "text/plain": [
       "b'{\"service-error\":{\"status\":{\"statusCode\":\"AUTHENTICATION_ERROR\",\"statusText\":\"Requestor configuration settings insufficient for access to this resource.\"}}}'"
      ]
     },
     "execution_count": 2,
     "metadata": {},
     "output_type": "execute_result"
    }
   ],
   "source": [
    "import requests\n",
    "url = 'https://api.elsevier.com/authenticate/'\n",
    "headers = {\n",
    "    'X-ELS-APIKey':'2a98a2802ed446a1ff443f5ff71ab42b',\n",
    "    'X-ELS-InstToken':'0d7b3c3bb497db46cc8f3de9cc07dbd5',\n",
    "    'User-Agent': 'Symplectic'\n",
    "}\n",
    "resp = requests.get(url, headers=headers)\n",
    "resp.content"
   ]
  },
  {
   "cell_type": "code",
   "execution_count": null,
   "metadata": {},
   "outputs": [],
   "source": [
    "resp = requests.get('https://api.elsevier.com/content/abstract/citations?doi=10.1016%2F0167-5877(85)90010-8&apiKey=2a98a2802ed446a1ff443f5ff71ab42b&httpAccept=application%2Fjson&insttoken=0d7b3c3bb497db46cc8f3de9cc07dbd5')"
   ]
  },
  {
   "cell_type": "code",
   "execution_count": null,
   "metadata": {},
   "outputs": [],
   "source": [
    "resp = requests.get('https://opencitations.net/index/api/v1/references/10.1016/01675877.*')\n",
    "resp.json()"
   ]
  },
  {
   "cell_type": "code",
   "execution_count": null,
   "metadata": {},
   "outputs": [],
   "source": []
  }
 ],
 "metadata": {
  "kernelspec": {
   "display_name": "Python [conda env:graph]",
   "language": "python",
   "name": "conda-env-graph-py"
  },
  "language_info": {
   "codemirror_mode": {
    "name": "ipython",
    "version": 3
   },
   "file_extension": ".py",
   "mimetype": "text/x-python",
   "name": "python",
   "nbconvert_exporter": "python",
   "pygments_lexer": "ipython3",
   "version": "3.7.9"
  }
 },
 "nbformat": 4,
 "nbformat_minor": 4
}
