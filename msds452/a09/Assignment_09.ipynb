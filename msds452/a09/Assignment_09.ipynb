{
 "cells": [
  {
   "cell_type": "markdown",
   "metadata": {},
   "source": [
    "## MSDS 452\n",
    "## Assignment 9"
   ]
  },
  {
   "cell_type": "markdown",
   "metadata": {},
   "source": [
    "## Phase 1 of the final project"
   ]
  },
  {
   "cell_type": "markdown",
   "metadata": {},
   "source": [
    "### 1. The Dataset\n",
    "\n",
    "**You need to select one of the following cases of datasets:**\n",
    "\n",
    "**(i) Airlines-airports-flights (sources from https://graphs4sci.substack.com/p/graphs-101)**\n",
    "\n",
    "**(ii) Wikipedia hyperlink graphs**\n",
    "\n",
    "**(iii) Bibliographic datasets (from Scopus or Web of Science etc.)**\n",
    "\n",
    "**(iv) Twitter (datasets of tweets)**\n",
    "\n",
    "**(v) IMDb actors playing in films**\n",
    "\n",
    "**The size of your dataset is determined by the number of nodes of the *primary graph* in each case, which should be <span style=\"color:red\">2,000 - 3,000</span> nodes.**"
   ]
  },
  {
   "cell_type": "markdown",
   "metadata": {},
   "source": [
    "### (i) The Graphs of Airlines-airports-flights:\n",
    "\n",
    "**The <span style=\"color:red\">*primary graph*</span> is the <span style=\"color:green\">graph of flights</span>, which is a directed graph having airports as nodes and flights among these airports as edges (airlines and other existing characteristics of flights should be taken as attributes of edges). Other graphs are:**\n",
    "\n",
    "**The <span style=\"color:green\">graph of reciprocating flights</span>, which is an undirected graph among airports with reciprocating flights (as a subgraph of the primary graph of flights).**\n",
    "\n",
    "**The <span style=\"color:green\">graph of co-arriving flights</span>, which is an undirected graph among pairs of airports to both of which there are arriving flights from (third) airports (as a subgraph of the primary graph of flights).**\n",
    "\n",
    "**The <span style=\"color:green\">graph of co-departing flights</span>, which is an undirected graph among pairs of airports from both of which there are departing flights to (third) airports (as a subgraph of the primary graph of flights).**"
   ]
  },
  {
   "cell_type": "markdown",
   "metadata": {},
   "source": [
    "### (ii). The Wikipedia hyperlink graphs:\n",
    "\n",
    "**The <span style=\"color:red\">*primary graph*</span> is the <span style=\"color:green\">graph of hyperlinks</span>, which is a directed graph having Wikipedia pages as nodes and hyperlinks among these pages as edges. Other graphs are:**\n",
    "\n",
    "**The <span style=\"color:green\">graph of reciprocating hyperlinks</span>, which is an undirected graph among Wikipedia pages with reciprocating hyperlinks (as a subgraph of the primary graph of hyperlinks).**\n",
    "\n",
    "**The <span style=\"color:green\">graph of co-hyperlinked Wikipedia pages</span>, which is an undirected graph among pairs of Wikipedia pages towards both of which there are hyperlinks emanating from (third) Wikipedia pages (as a subgraph of the primary graph of hyperlinks).**\n",
    "\n",
    "**The <span style=\"color:green\">graph of co-hyperlinking Wikipedia pages</span>, which is an undirected graph among pairs of Wikipedia pages from both of which there are hyperlinks directed towards (third) Wikipedia pages (as a subgraph of the primary graph of hyperlinks).**"
   ]
  },
  {
   "cell_type": "markdown",
   "metadata": {},
   "source": [
    "### (iii). The bibliographic graphs:\n",
    "\n",
    "**The <span style=\"color:red\">*primary graph*</span> is the <span style=\"color:green\">graph of citations</span>, which is a directed graph having publications as nodes and citations among these publications as edges. Other graphs are:**\n",
    "\n",
    "**The <span style=\"color:green\">co-citation graph</span>, which is an undirected graph among pairs of publications towards both of which there are citations emanating from (third) publications (as a subgraph of the primary graph of hyperlinks).**\n",
    "\n",
    "**The <span style=\"color:green\">graph of bibliographic coupling</span>, which is an undirected graph among pairs of publications from both of which there are citations towards (third) publications (as a subgraph of the primary graph of hyperlinks).**"
   ]
  },
  {
   "cell_type": "markdown",
   "metadata": {},
   "source": [
    "### (iv). The Twitter mentions graphs:\n",
    "\n",
    "**The <span style=\"color:red\">*primary graph*</span> is the <span style=\"color:green\">graph of mentions</span>, which is a directed graph having tweeple (Twitter accounts) as nodes and mentions among these tweeple as edges. Other graphs are:**\n",
    "\n",
    "**The <span style=\"color:green\">graph of reciprocating mentions</span>, which is an undirected graph among tweeple with reciprocating mentions (as a subgraph of the primary graph of mentions).**\n",
    "\n",
    "**The <span style=\"color:green\">graph of co-mentioned tweeple</span>, which is an undirected graph among pairs of tweeple towards both of which there are mentions emanating from (third) tweeple (as a subgraph of the primary graph of hyperlinks).**\n",
    "\n",
    "**The <span style=\"color:green\">graph of co-mentioning tweeple</span>, which is an undirected graph among pairs of tweeple from both of which there are mentions directed towards (third) tweeple (as a subgraph of the primary graph of hyperlinks).**"
   ]
  },
  {
   "cell_type": "markdown",
   "metadata": {},
   "source": [
    "### (v). The graphs among actors and films:\n",
    "\n",
    "**The <span style=\"color:red\">*primary graph*</span> is the <span style=\"color:green\">graph of films vs. actors</span>, which is a bipartite graph having films and actors as nodes and edges among them being defined by associations of an actor to a film in which the actor is playing. Other graphs are:**\n",
    "\n",
    "**The <span style=\"color:green\">co-actorship graph</span>, which is an undirected graph among pairs of actors both of which playing in the same films (as a projection over actors of the primary graph of films vs. actors).**\n",
    "\n",
    "**The <span style=\"color:green\">graph of films sharing actors</span>, which is an undirected graph among pairs of films both of which are sharing a number of (common) actors playing in them (as a projection over films of the primary graph of films vs. actors).**"
   ]
  },
  {
   "cell_type": "markdown",
   "metadata": {},
   "source": [
    "# <span style=\"color:magenta\">What to be done in Phase 1 of the final project:</span>\n",
    "\n",
    "**<font size=\"4\"><span style=\"color:orangered\">1. Collect one of the five datasets such that the corresponding primary graph has <span style=\"color:red\">2,000 - 3,000</span> nodes.</span>**\n",
    "\n",
    "**<font size=\"4\"><span style=\"color:orangered\">2. Generate in NetworkX the primary and the other graphs.</span>**\n",
    "\n",
    "**<font size=\"4\"><span style=\"color:orangered\">3. Compute the network diagnostics of all your graphs.</span>**\n",
    "\n",
    "**<font size=\"4\"><span style=\"color:orangered\">4. Plot in holoviews all your graphs.</span>**"
   ]
  },
  {
   "cell_type": "markdown",
   "metadata": {},
   "source": [
    "## <font size=\"5\"><span style=\"color:blue\">In Phase 2 of the final project you are going to compute the centrality indices of nodes and various community partitions for all your graphs.</span>"
   ]
  },
  {
   "cell_type": "code",
   "execution_count": null,
   "metadata": {},
   "outputs": [],
   "source": []
  }
 ],
 "metadata": {
  "kernelspec": {
   "display_name": "Python 3",
   "language": "python",
   "name": "python3"
  },
  "language_info": {
   "codemirror_mode": {
    "name": "ipython",
    "version": 3
   },
   "file_extension": ".py",
   "mimetype": "text/x-python",
   "name": "python",
   "nbconvert_exporter": "python",
   "pygments_lexer": "ipython3",
   "version": "3.7.1"
  }
 },
 "nbformat": 4,
 "nbformat_minor": 4
}
